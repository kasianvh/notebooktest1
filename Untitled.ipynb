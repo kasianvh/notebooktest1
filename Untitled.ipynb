{
 "cells": [
  {
   "cell_type": "markdown",
   "id": "00331b75",
   "metadata": {},
   "source": [
    "## Opgaven\n",
    "\n",
    "Bij deze PO gaan jullie de gegevens uit het databestand \"Speeddatingdata' onderzoeken. Daarbij probeer je conclusies te trekken uit de data. We gaan ervan uit dat deze dataset een representatieve steekproef is van alle speeddates in de VS. \n",
    "\n",
    "Beschrijf bij elke vraag je gedachtegang en hoe je tot een oplossing bent gekomen en licht je antwoorden waar mogelijk toe met een geschikte (grafische) representatie. In de opgave wordt vaak een hint gegeven op welke manier de opgave is op te lossen (meestal draaitabel/pivot table), maar op een andere manier de vraag oplossen mag natuurlijk ook. \n",
    "\n",
    "\n",
    "Elke regel van het bestand bevat de gegevens van een date. Je ziet bijvoorbeeld in het eerste record dat het bij deze date om een 21 -jarige vrouw gaat met ID 10001, dat als doel opgegeven heeft om nieuwe mensen te ontmoeten. Haar gesprekspartner met ID 10011, in het record ID other genoemd, is 27 jaar."
   ]
  },
  {
   "cell_type": "markdown",
   "id": "4749f0cd",
   "metadata": {},
   "source": [
    "## Excel Tabellen\n",
    "\n",
    "Bij dit PO zal duidelijk worden dat het gebruiken van een draaitabel of Engels genaamd *pivot table* vaak terugkomt. Dit komt vooral omdat draaitabellen grote datasets kunnen omzetten in kleinere datasets. Draaitabellen kunnen ook helpen bij het filteren van veel overbodige informatie die niet relevant is voor wat je aan het onderzoeken bent. Data-analyse die met Excel wordt gedaan is dus ook vooral afhankelijk van het kunnen maken van een goede draaitabel die goed toepasbaar is op de gegeven probleemstelling.\n",
    "\n",
    "**Om vraag 1 tot en met 4 te beantwoorden is het handig om video 5 te bekijken. Video 5 legt uit hoe je een Excel-tabel kunt maken om bepaalde informatie te zoeken in een dataset. Ook is het handig om video 1 van 06:10 tot en met 07:30 te bekijken.**\n",
    "\n",
    "**Uitleg hoe je data in een tabel zet en hoe je hiermee werkt, zodat je makkelijk de vragen kunt beantwoorden.**\n",
    "\n",
    "Als je in de praktijk aan een dataset gaat werken, begin je met de verkenning van de data. Dit doen wij met de volgende vragen:"
   ]
  },
  {
   "cell_type": "markdown",
   "id": "cf8aeab0",
   "metadata": {},
   "source": [
    "1. Beantwoord de volgende verkennende vragen:\n",
    "    - (a) Hoeveel mensen van elk geslacht heb je? (1p)\n",
    "    - (b) Hoeveel mensen van elke leeftijd heb je? (1p)\n",
    "    - (c) Hoeveel mensen vinden godsdienst belangrijk (imp religion ≥ 7)? (1p)\n",
    "    - (d) Wat is de gemiddelde leeftijd bij mannen? Geef hiervan een interpretatie. (1p)"
   ]
  },
  {
   "cell_type": "code",
   "execution_count": null,
   "id": "a5907fe2",
   "metadata": {},
   "outputs": [],
   "source": []
  }
 ],
 "metadata": {
  "kernelspec": {
   "display_name": "Python 3 (ipykernel)",
   "language": "python",
   "name": "python3"
  },
  "language_info": {
   "codemirror_mode": {
    "name": "ipython",
    "version": 3
   },
   "file_extension": ".py",
   "mimetype": "text/x-python",
   "name": "python",
   "nbconvert_exporter": "python",
   "pygments_lexer": "ipython3",
   "version": "3.9.13"
  }
 },
 "nbformat": 4,
 "nbformat_minor": 5
}
